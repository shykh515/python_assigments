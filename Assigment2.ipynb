{
 "cells": [
  {
   "cell_type": "code",
   "execution_count": 7,
   "metadata": {},
   "outputs": [
    {
     "name": "stdout",
     "output_type": "stream",
     "text": [
      "Enter Marks of the english subject: 87\n",
      "Enter Marks of the urdu subject: 67\n",
      "Enter Marks of the math subject: 76\n",
      "Enter Marks of the islamiat subject: 77\n",
      "Enter Marks of the sindhi subject: 56\n",
      "Grade: C\n"
     ]
    }
   ],
   "source": [
    "sub1=int(input(\"Enter Marks of the english subject: \"));\n",
    "sub2=int(input(\"Enter Marks of the urdu subject: \"));\n",
    "sub3=int(input(\"Enter Marks of the math subject: \"));\n",
    "sub4=int(input(\"Enter Marks of the islamiat subject: \"));\n",
    "sub5=int(input(\"Enter Marks of the sindhi subject: \"));\n",
    "avg=(sub1+sub2+sub3+sub4+sub4)/5\n",
    "if(avg>=90):\n",
    "  print(\"Grade: A\") \n",
    "elif(avg>=80):\n",
    "  print(\"Grade: B \")\n",
    "elif(avg>=70):\n",
    "  print(\"Grade: C\")\n",
    "elif(avg>=60):\n",
    "  print(\"Grade: D\")\n",
    "else:\n",
    "  print(\"Grade: F\")\n",
    "    "
   ]
  },
  {
   "cell_type": "code",
   "execution_count": 17,
   "metadata": {},
   "outputs": [
    {
     "name": "stdout",
     "output_type": "stream",
     "text": [
      "87\n",
      "odd\n"
     ]
    }
   ],
   "source": [
    "num=int(input(\"\"));\n",
    "a = num % 2\n",
    "if num > 0:\n",
    "    print(\"odd\");\n",
    "else:\n",
    "    print(\"even\");"
   ]
  },
  {
   "cell_type": "code",
   "execution_count": 19,
   "metadata": {},
   "outputs": [
    {
     "name": "stdout",
     "output_type": "stream",
     "text": [
      "5\n",
      "6\n"
     ]
    }
   ],
   "source": [
    "Cities =[\"california\",\"karachi\", \"islamabad\", \"lahore\", \"multan\", \"peshawar\"]\n",
    "cars=[123123,\"audi\",\"bentley\",\"corolla\",\"land cruiser\"]\n",
    "print(len(cars))\n",
    "print(len(Cities))"
   ]
  },
  {
   "cell_type": "code",
   "execution_count": 20,
   "metadata": {},
   "outputs": [
    {
     "name": "stdout",
     "output_type": "stream",
     "text": [
      "176\n",
      "8\n"
     ]
    }
   ],
   "source": [
    "num =[2,9,0,3,4,5,8,145]\n",
    "print(sum(num))\n",
    "print(len(num))\n"
   ]
  },
  {
   "cell_type": "code",
   "execution_count": 21,
   "metadata": {},
   "outputs": [
    {
     "name": "stdout",
     "output_type": "stream",
     "text": [
      "largest num 5000\n",
      "loest num 0\n"
     ]
    }
   ],
   "source": [
    "num =[2,1,0,100,3,6,5,8,200,5000,576]\n",
    "num.sort()\n",
    "print(\"largest num\",max(num))\n",
    "print(\"loest num\" ,min(num))"
   ]
  },
  {
   "cell_type": "code",
   "execution_count": 22,
   "metadata": {},
   "outputs": [
    {
     "name": "stdout",
     "output_type": "stream",
     "text": [
      "1\n",
      "1\n",
      "2\n",
      "4\n",
      "3\n"
     ]
    }
   ],
   "source": [
    "a = [1,1,2,4,3,5,8,13,21,34,55,89]\n",
    "for i in a:\n",
    "    if i <5:\n",
    "        print(i)"
   ]
  },
  {
   "cell_type": "code",
   "execution_count": null,
   "metadata": {},
   "outputs": [],
   "source": []
  }
 ],
 "metadata": {
  "kernelspec": {
   "display_name": "Python 3",
   "language": "python",
   "name": "python3"
  },
  "language_info": {
   "codemirror_mode": {
    "name": "ipython",
    "version": 3
   },
   "file_extension": ".py",
   "mimetype": "text/x-python",
   "name": "python",
   "nbconvert_exporter": "python",
   "pygments_lexer": "ipython3",
   "version": "3.7.4"
  }
 },
 "nbformat": 4,
 "nbformat_minor": 2
}
