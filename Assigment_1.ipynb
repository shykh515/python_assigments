{
 "cells": [
  {
   "cell_type": "code",
   "execution_count": 4,
   "metadata": {},
   "outputs": [
    {
     "name": "stdout",
     "output_type": "stream",
     "text": [
      "Twinkle, twinkle, Litter star, \n",
      "\t How I wonder what you are! \n",
      "\t\t Up above the world so high, \n",
      "\t\t Like a diamond in the sky. \n",
      "Twinkle, twinkle, Litter star, \n",
      "\t How I wonder what you are \n"
     ]
    }
   ],
   "source": [
    "print(\"Twinkle, twinkle, Litter star, \\n\\t How I wonder what you are! \\n\\t\\t Up above the world so high, \\n\\t\\t Like a diamond in the sky. \\nTwinkle, twinkle, Litter star, \\n\\t How I wonder what you are \")"
   ]
  },
  {
   "cell_type": "code",
   "execution_count": 8,
   "metadata": {},
   "outputs": [
    {
     "name": "stdout",
     "output_type": "stream",
     "text": [
      "python version is : 3.7.1 (default, Dec 10 2018, 22:54:23) [MSC v.1915 64 bit (AMD64)]  \n",
      "Version Info is : sys.version_info(major=3, minor=7, micro=1, releaselevel='final', serial=0)\n"
     ]
    }
   ],
   "source": [
    "import sys\n",
    "print(\"python version is :\",sys.version ,\" \\nVersion Info is :\" , sys.version_info)"
   ]
  },
  {
   "cell_type": "code",
   "execution_count": 13,
   "metadata": {},
   "outputs": [
    {
     "name": "stdout",
     "output_type": "stream",
     "text": [
      "Cureent date and time is :  2-Nov-2019 06-56-14\n"
     ]
    }
   ],
   "source": [
    "import datetime\n",
    "now=  datetime.datetime.now()\n",
    "print(\"Cureent date and time is : \" , now.strftime(\"%w-%b-%Y %I-%M-%S\"))"
   ]
  },
  {
   "cell_type": "code",
   "execution_count": 15,
   "metadata": {},
   "outputs": [
    {
     "name": "stdout",
     "output_type": "stream",
     "text": [
      "Enter the value of radius:50\n",
      "value of radius  50.0\n",
      "Area of circle is   ; 7853.981633974483\n"
     ]
    }
   ],
   "source": [
    "from math import pi\n",
    "Rad_of_cric = float(input(\"Enter the value of radius:\"))\n",
    "print (\"value of radius \",str(Rad_of_cric))\n",
    "print(\"Area of circle is   ;\" ,str(pi *Rad_of_cric**2) )"
   ]
  },
  {
   "cell_type": "code",
   "execution_count": 17,
   "metadata": {},
   "outputs": [
    {
     "name": "stdout",
     "output_type": "stream",
     "text": [
      "Enter Your first name asad\n",
      "Enter Your Last name shaikh\n",
      " Reversed Name is shaikh asad\n"
     ]
    }
   ],
   "source": [
    "F_name = input(\"Enter Your first name \")\n",
    "L_name = input(\"Enter Your Last name \")\n",
    "print(\"Reversed Name is \"+  L_name + \" \"+F_name )"
   ]
  },
  {
   "cell_type": "code",
   "execution_count": 21,
   "metadata": {},
   "outputs": [
    {
     "name": "stdout",
     "output_type": "stream",
     "text": [
      "Enter 1st Number10\n",
      "Enter Second Number20\n",
      "SUm of numbers is  30\n"
     ]
    }
   ],
   "source": [
    "num1 = int(input(\"Enter 1st Number\"))\n",
    "num2 = int(input(\"Enter Second Number\"))\n",
    " \n",
    "print(\"SUm of numbers is \" , num1 + num2)"
   ]
  },
  {
   "cell_type": "code",
   "execution_count": null,
   "metadata": {},
   "outputs": [],
   "source": []
  }
 ],
 "metadata": {
  "kernelspec": {
   "display_name": "Python 3",
   "language": "python",
   "name": "python3"
  },
  "language_info": {
   "codemirror_mode": {
    "name": "ipython",
    "version": 3
   },
   "file_extension": ".py",
   "mimetype": "text/x-python",
   "name": "python",
   "nbconvert_exporter": "python",
   "pygments_lexer": "ipython3",
   "version": "3.7.1"
  }
 },
 "nbformat": 4,
 "nbformat_minor": 2
}
